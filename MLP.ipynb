{
  "nbformat": 4,
  "nbformat_minor": 0,
  "metadata": {
    "colab": {
      "provenance": [],
      "collapsed_sections": [],
      "authorship_tag": "ABX9TyOlQ+v4uasVExpx7R0GTk7Q",
      "include_colab_link": true
    },
    "kernelspec": {
      "name": "python3",
      "display_name": "Python 3"
    },
    "language_info": {
      "name": "python"
    }
  },
  "cells": [
    {
      "cell_type": "markdown",
      "metadata": {
        "id": "view-in-github",
        "colab_type": "text"
      },
      "source": [
        "<a href=\"https://colab.research.google.com/github/Andrew9037/NKUST_ML_HW1/blob/main/MLP.ipynb\" target=\"_parent\"><img src=\"https://colab.research.google.com/assets/colab-badge.svg\" alt=\"Open In Colab\"/></a>"
      ]
    },
    {
      "cell_type": "code",
      "execution_count": null,
      "metadata": {
        "id": "PYh5Hrwr04OS"
      },
      "outputs": [],
      "source": [
        "from sklearn.datasets import load_iris\n",
        "from sklearn.metrics import accuracy_score\n",
        "from sklearn.model_selection import train_test_split\n",
        "import numpy as np\n",
        "import pandas as pd\n",
        "import tensorflow as tf"
      ]
    },
    {
      "cell_type": "markdown",
      "source": [
        "建立訓練資料"
      ],
      "metadata": {
        "id": "8SLPJdhU1ZQO"
      }
    },
    {
      "cell_type": "code",
      "source": [
        "iris = load_iris()\n",
        "X, y = iris.data, iris.target\n",
        "x_train, x_test, y_train, y_test = train_test_split( X, y, test_size=0.2) # Split the data into 80% training and 20% testing\n",
        "category = len(np.unique(y))\n",
        "print(\"iris.data: \", X)\n",
        "print(\"iris.target: \", y)\n",
        "print(\"category: \", category)"
      ],
      "metadata": {
        "id": "EdWrOi_y1U4N"
      },
      "execution_count": null,
      "outputs": []
    },
    {
      "cell_type": "markdown",
      "source": [
        "跑MLP"
      ],
      "metadata": {
        "id": "BzQsvOpzquGi"
      }
    },
    {
      "cell_type": "code",
      "source": [
        "# self activation function\n",
        "def sigmoid(x):\n",
        "    return 1/(1+np.exp(-x))\n",
        "\n",
        "\n",
        "def tanh(x):\n",
        "    return (2/(1+np.exp(-2*x))) - 1\n",
        "\n",
        "\n",
        "def relu(x):\n",
        "    return x if x > 0 else 0"
      ],
      "metadata": {
        "id": "Nbn60zjrpaj7"
      },
      "execution_count": null,
      "outputs": []
    },
    {
      "cell_type": "code",
      "source": [
        "# one-hot encode\n",
        "y_train_2 = tf.keras.utils.to_categorical(y_train, num_classes=category)\n",
        "y_test_2 = tf.keras.utils.to_categorical(y_test, num_classes=category)\n",
        "\n",
        "model = tf.keras.models.Sequential()\n",
        "model.add(tf.keras.layers.Dense(10, activation=tf.nn.relu, input_dim=x_train.shape[1]))\n",
        "model.add(tf.keras.layers.Dense(10, activation=tf.nn.relu))\n",
        "model.add(tf.keras.layers.Dense(category, activation=tf.nn.softmax))  # 多分類需要採用 softmax or maxout 的 activation function\n",
        "\n",
        "model.compile(\n",
        "    optimizer='adam',\n",
        "    loss=tf.keras.losses.categorical_crossentropy,\n",
        "    metrics=['accuracy']\n",
        ")\n",
        "\n",
        "model.fit(x_train, y_train_2, epochs=100, batch_size=12, verbose=1)\n",
        "score = model.evaluate(x_test, y_test_2, batch_size=12)\n",
        "\n",
        "# Activation function: Softmax\n",
        "prob = model.predict(x_test)\n",
        "prob.astype(np.float)\n",
        "\n",
        "# Cal cross-entropy\n",
        "cross_entropy = tf.keras.metrics.categorical_crossentropy(y_test_2, prob)\n",
        "print(\"Cross Entropy: \", np.asarray(cross_entropy))\n",
        "\n",
        "# pred = np.zeros(prob.shape, dtype=np.int)\n",
        "# for i in range(prob.shape[0]):\n",
        "#     index = np.argmax(prob[i])\n",
        "#     for j in range(prob.shape[1]):\n",
        "#         if j == index:\n",
        "#             pred[i, j] = 1\n",
        "#         else:\n",
        "#             pred[i, j] = 0\n",
        "\n",
        "column = ['setosa', 'virginica', 'versicolor']\n",
        "\n",
        "# df_prob = pd.DataFrame(prob, columns=column, index=np.arange(1, 46))\n",
        "# df_pred = pd.DataFrame(pred, columns=column, index=np.arange(1, 46))\n",
        "# df_true = pd.DataFrame(y_test2, columns=column, index=np.arange(1, 46))\n",
        "# print(\"probability: \\n\", df_prob)\n",
        "# print(\"prediction: \\n\", df_pred)\n",
        "# print(\"true labels: \\n\", df_true)"
      ],
      "metadata": {
        "id": "_U6aEVqppmLh"
      },
      "execution_count": null,
      "outputs": []
    }
  ]
}