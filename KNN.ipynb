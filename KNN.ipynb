{
  "nbformat": 4,
  "nbformat_minor": 0,
  "metadata": {
    "colab": {
      "provenance": [],
      "collapsed_sections": [],
      "authorship_tag": "ABX9TyM8GP362Yr5NwJ4oP9HWCzy",
      "include_colab_link": true
    },
    "kernelspec": {
      "name": "python3",
      "display_name": "Python 3"
    },
    "language_info": {
      "name": "python"
    }
  },
  "cells": [
    {
      "cell_type": "markdown",
      "metadata": {
        "id": "view-in-github",
        "colab_type": "text"
      },
      "source": [
        "<a href=\"https://colab.research.google.com/github/Andrew9037/NKUST_ML_HW1/blob/main/KNN.ipynb\" target=\"_parent\"><img src=\"https://colab.research.google.com/assets/colab-badge.svg\" alt=\"Open In Colab\"/></a>"
      ]
    },
    {
      "cell_type": "code",
      "execution_count": null,
      "metadata": {
        "id": "4NIc50uFrSDR"
      },
      "outputs": [],
      "source": [
        "from sklearn.neighbors import KNeighborsClassifier\n",
        "from sklearn.datasets import load_iris\n",
        "from sklearn.metrics import accuracy_score\n",
        "from sklearn.model_selection import train_test_split\n",
        "import numpy as np\n",
        "import pandas as pd"
      ]
    },
    {
      "cell_type": "markdown",
      "source": [
        "建立訓練資料"
      ],
      "metadata": {
        "id": "LTZ4FUkx0kIV"
      }
    },
    {
      "cell_type": "code",
      "source": [
        "iris = load_iris()\n",
        "X, y = iris.data, iris.target\n",
        "x_train, x_test, y_train, y_test = train_test_split( X, y, test_size=0.2) # Split the data into 80% training and 20% testing\n",
        "category = len(np.unique(y))\n",
        "print(\"iris.data: \", X)\n",
        "print(\"iris.target: \", y)\n",
        "print(\"category: \", category)"
      ],
      "metadata": {
        "id": "xinxrRypvfBG"
      },
      "execution_count": null,
      "outputs": []
    },
    {
      "cell_type": "markdown",
      "source": [
        "比較訓練結果"
      ],
      "metadata": {
        "id": "Hbyb1psp0qi1"
      }
    },
    {
      "cell_type": "code",
      "source": [
        "neigh = KNeighborsClassifier(n_neighbors=3)\n",
        "neigh.fit( x_train, y_train)\n",
        "y_pred = neigh.predict(x_test)\n",
        "accuracy = accuracy_score( y_test, y_pred)\n",
        "print(\"Accuracy: %.3f %%\" % (accuracy * 100))"
      ],
      "metadata": {
        "colab": {
          "base_uri": "https://localhost:8080/"
        },
        "id": "f72ViJkrv3qF",
        "outputId": "7b7c1bcd-ecdb-48e9-e763-b809597f9341"
      },
      "execution_count": null,
      "outputs": [
        {
          "output_type": "stream",
          "name": "stdout",
          "text": [
            "Accuracy: 93.333 %\n"
          ]
        }
      ]
    }
  ]
}